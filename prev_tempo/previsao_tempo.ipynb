{
 "cells": [
  {
   "cell_type": "markdown",
   "metadata": {},
   "source": [
    "### <b> Import Libs\n",
    "\n",
    "* <b> <a href = \"https://docs.python-requests.org/en/latest/\" > requests </a> : Solicitações http\n",
    "* <b> <a href = \"https://docs.python.org/3/library/json.html\" > json </a> : Analises de arquivos json\n",
    "* <b> <a href = \"https://docs.python.org/3/library/socket.html\" > socket </a> : ---\n",
    "\n",
    "<br> <i> <code> pip install requests </code> </i>"
   ]
  },
  {
   "cell_type": "code",
   "execution_count": 5,
   "metadata": {},
   "outputs": [],
   "source": [
    "import requests\n",
    "import json\n",
    "import socket"
   ]
  },
  {
   "cell_type": "code",
   "execution_count": 32,
   "metadata": {},
   "outputs": [],
   "source": [
    "def get_clima(woeid):\n",
    "    clima = requests.get(f'https://api.hgbrasil.com/weather?woeid={woeid}') \n",
    "    \n",
    "    bd = json.loads(clima.content)\n",
    "    \n",
    "    return bd"
   ]
  },
  {
   "cell_type": "code",
   "execution_count": 64,
   "metadata": {
    "scrolled": true
   },
   "outputs": [],
   "source": [
    "def get_cidade(cidade_escolha):\n",
    "    cidade = requests.get(f\"https://api.hgbrasil.com/stats/find_woeid?key=17284dd0&format=json-cors&sdk_version=console&city_name={cidade_escolha}\")\n",
    "    bd = json.loads(cidade.content)\n",
    "    cidade = bd['name']\n",
    "    woeid = bd['woeid']\n",
    "    \n",
    "    return cidade, woeid\n"
   ]
  },
  {
   "cell_type": "code",
   "execution_count": 65,
   "metadata": {},
   "outputs": [],
   "source": [
    "cidade_buscada = 'Campinas'\n",
    "dados = get_clima(get_cidade(cidade_buscada)[1])\n",
    "dados = dados['results']['forecast']"
   ]
  },
  {
   "cell_type": "code",
   "execution_count": 66,
   "metadata": {},
   "outputs": [],
   "source": [
    "def get_dia(id_dia, dados):\n",
    "    dia = dados[id_dia]\n",
    "    data = dia['date']\n",
    "    semana = dia['weekday']\n",
    "    dia_max = dia['max']\n",
    "    dia_min = dia['min']\n",
    "    desc = dia['description']\n",
    "    \n",
    "    return data, semana, dia_max, dia_min, desc\n"
   ]
  },
  {
   "cell_type": "code",
   "execution_count": 70,
   "metadata": {},
   "outputs": [
    {
     "name": "stdout",
     "output_type": "stream",
     "text": [
      "CIDADE: Campinas \n",
      "dia: 15/11, Ter.\n",
      "minima: 19 | maxima: 29. \n",
      "Chuvas esparsas\n"
     ]
    }
   ],
   "source": [
    "data = get_dia(id_dia = 3, dados = dados)\n",
    "# 0 = hoje, 1 = amanhã ... \n",
    "print(f'CIDADE: {cidade_buscada} \\ndia: {data[0]}, {data[1]}.\\nminima: {data[3]} | maxima: {data[2]}. \\n{data[4]}')"
   ]
  }
 ],
 "metadata": {
  "kernelspec": {
   "display_name": "Python 3",
   "language": "python",
   "name": "python3"
  },
  "language_info": {
   "codemirror_mode": {
    "name": "ipython",
    "version": 3
   },
   "file_extension": ".py",
   "mimetype": "text/x-python",
   "name": "python",
   "nbconvert_exporter": "python",
   "pygments_lexer": "ipython3",
   "version": "3.7.3"
  },
  "vscode": {
   "interpreter": {
    "hash": "64b62ccd4a029521862654210a5eb4d4dee38e0a8158861888c066ae92ecfaf5"
   }
  }
 },
 "nbformat": 4,
 "nbformat_minor": 5
}
