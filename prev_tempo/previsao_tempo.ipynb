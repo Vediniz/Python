{
 "cells": [
  {
   "cell_type": "markdown",
   "id": "53844496",
   "metadata": {},
   "source": [
    "### <b> Import Libs\n",
    "\n",
    "* <b> <a href = \"https://docs.python-requests.org/en/latest/\" > requests </a> : Solicitações http\n",
    "* <b> <a href = \"https://docs.python.org/3/library/json.html\" > json </a> : Analises de arquivos json\n",
    "* <b> <a href = \"https://docs.python.org/3/library/socket.html\" > socket </a> : ---\n",
    "\n",
    "<br> <i> <code> pip install requests </code> </i>"
   ]
  },
  {
   "cell_type": "code",
   "execution_count": 1,
   "id": "b31ac165",
   "metadata": {},
   "outputs": [],
   "source": [
    "import requests\n",
    "import json\n",
    "import socket"
   ]
  },
  {
   "cell_type": "code",
   "execution_count": 22,
   "id": "bb571321",
   "metadata": {},
   "outputs": [],
   "source": [
    "def get_clima():\n",
    "    ip = socket.gethostbyname(socket.gethostname())\n",
    "    clima = requests.get(f'https://api.hgbrasil.com/weather?array_limit=2&fields=only_results,temp,city_name,forecast,max,min,date&key={ip}')\n",
    "    #print(f'clima:{clima.status_code}')\n",
    "    \n",
    "    bd = json.loads(clima.content)\n",
    "    \n",
    "    return bd"
   ]
  },
  {
   "cell_type": "code",
   "execution_count": 51,
   "id": "b87f4b1e",
   "metadata": {},
   "outputs": [],
   "source": [
    "dados = get_clima()\n",
    "dados = dados['results']['forecast']\n"
   ]
  },
  {
   "cell_type": "code",
   "execution_count": 52,
   "id": "1ba49de3",
   "metadata": {},
   "outputs": [],
   "source": [
    "def get_dia(id_dia, dados):\n",
    "    dia = dados[id_dia]\n",
    "    data = dia['date']\n",
    "    semana = dia['weekday']\n",
    "    dia_max = dia['max']\n",
    "    dia_min = dia['min']\n",
    "    desc = dia['description']\n",
    "    \n",
    "    return data, semana, dia_max, dia_min, desc\n"
   ]
  },
  {
   "cell_type": "code",
   "execution_count": 56,
   "id": "4f69b202",
   "metadata": {},
   "outputs": [
    {
     "name": "stdout",
     "output_type": "stream",
     "text": [
      "dia: 21/05, Sáb.\n",
      "minima: 9 | maxima: 20. \n",
      "Tempo limpo\n"
     ]
    }
   ],
   "source": [
    "a = get_dia(id_dia = 2, dados = dados)\n",
    "# 0 = hoje, 1 = amanhã ... \n",
    "print(f'dia: {a[0]}, {a[1]}.\\nminima: {a[3]} | maxima: {a[2]}. \\n{a[4]}')"
   ]
  }
 ],
 "metadata": {
  "kernelspec": {
   "display_name": "Python 3 (ipykernel)",
   "language": "python",
   "name": "python3"
  },
  "language_info": {
   "codemirror_mode": {
    "name": "ipython",
    "version": 3
   },
   "file_extension": ".py",
   "mimetype": "text/x-python",
   "name": "python",
   "nbconvert_exporter": "python",
   "pygments_lexer": "ipython3",
   "version": "3.9.7"
  }
 },
 "nbformat": 4,
 "nbformat_minor": 5
}
