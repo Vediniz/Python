{
 "cells": [
  {
   "cell_type": "markdown",
   "metadata": {},
   "source": [
    "### <b> Import Libs\n",
    "\n",
    "* <b> <a href = \"https://docs.python-requests.org/en/latest/\" > requests </a> : Solicitações http\n",
    "* <b> <a href = \"https://docs.python.org/3/library/json.html\" > json </a> : Analises de arquivos json\n",
    "* <b> <a href = \"https://docs.python.org/3/library/socket.html\" > socket </a> : ---\n",
    "\n",
    "<br> <i> <code> pip install requests </code> </i>"
   ]
  },
  {
   "cell_type": "code",
   "execution_count": 5,
   "metadata": {},
   "outputs": [],
   "source": [
    "import requests\n",
    "import json\n",
    "import socket"
   ]
  },
  {
   "cell_type": "code",
   "execution_count": 19,
   "metadata": {},
   "outputs": [],
   "source": [
    "def get_clima(woeid):\n",
    "    clima = requests.get(f'https://api.hgbrasil.com/weather?woeid={woeid}') \n",
    "    \n",
    "    bd = json.loads(clima.content)\n",
    "    \n",
    "    return bd"
   ]
  },
  {
   "cell_type": "code",
   "execution_count": 29,
   "metadata": {
    "scrolled": true
   },
   "outputs": [
    {
     "ename": "SyntaxError",
     "evalue": "EOL while scanning string literal (<ipython-input-29-ac55120207cc>, line 2)",
     "output_type": "error",
     "traceback": [
      "\u001b[0;36m  File \u001b[0;32m\"<ipython-input-29-ac55120207cc>\"\u001b[0;36m, line \u001b[0;32m2\u001b[0m\n\u001b[0;31m    cidade = requests.get(f'https://api.hgbrasil.com/stats/find_woeid?key=17284dd0&format=json-cors&sdk_version=console&city_name={cidade_escolha}')'\u001b[0m\n\u001b[0m                                                                                                                                                     ^\u001b[0m\n\u001b[0;31mSyntaxError\u001b[0m\u001b[0;31m:\u001b[0m EOL while scanning string literal\n"
     ]
    }
   ],
   "source": [
    "def get_cidade(cidade_escolha):\n",
    "    cidade = requests.get(f\"https://api.hgbrasil.com/stats/find_woeid?key=17284dd0&format=json-cors&sdk_version=console&city_name={cidade_escolha}\")'\n",
    "    cidade =  cidade['name']\n",
    "    return cidade\n",
    "\n",
    "get_cidade('São Carlos')"
   ]
  },
  {
   "cell_type": "code",
   "execution_count": null,
   "metadata": {},
   "outputs": [],
   "source": [
    "dados = get_clima()\n",
    "dados = dados['results']['forecast']"
   ]
  },
  {
   "cell_type": "code",
   "execution_count": 22,
   "metadata": {},
   "outputs": [],
   "source": [
    "def get_dia(id_dia, dados):\n",
    "    dia = dados[id_dia]\n",
    "    data = dia['date']\n",
    "    semana = dia['weekday']\n",
    "    dia_max = dia['max']\n",
    "    dia_min = dia['min']\n",
    "    desc = dia['description']\n",
    "    \n",
    "    return data, semana, dia_max, dia_min, desc\n"
   ]
  },
  {
   "cell_type": "code",
   "execution_count": 24,
   "metadata": {},
   "outputs": [
    {
     "name": "stdout",
     "output_type": "stream",
     "text": [
      "dia: 14/11, Seg.\n",
      "minima: 19 | maxima: 28. \n",
      "Chuva\n"
     ]
    }
   ],
   "source": [
    "a = get_dia(id_dia = 2, dados = dados)\n",
    "# 0 = hoje, 1 = amanhã ... \n",
    "print(f'dia: {a[0]}, {a[1]}.\\nminima: {a[3]} | maxima: {a[2]}. \\n{a[4]}')"
   ]
  }
 ],
 "metadata": {
  "kernelspec": {
   "display_name": "Python 3",
   "language": "python",
   "name": "python3"
  },
  "language_info": {
   "codemirror_mode": {
    "name": "ipython",
    "version": 3
   },
   "file_extension": ".py",
   "mimetype": "text/x-python",
   "name": "python",
   "nbconvert_exporter": "python",
   "pygments_lexer": "ipython3",
   "version": "3.7.3"
  },
  "vscode": {
   "interpreter": {
    "hash": "64b62ccd4a029521862654210a5eb4d4dee38e0a8158861888c066ae92ecfaf5"
   }
  }
 },
 "nbformat": 4,
 "nbformat_minor": 5
}
